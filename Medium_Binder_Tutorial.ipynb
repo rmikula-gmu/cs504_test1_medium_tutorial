{
 "cells": [
  {
   "cell_type": "code",
   "execution_count": null,
   "id": "612bc0c5-b8aa-4b36-9310-078802f0e087",
   "metadata": {},
   "outputs": [],
   "source": [
    "#This is a copy of the tutorial at the following URL to verify hosting functionality \n",
    "#https://towardsdatascience.com/deploy-your-jupyter-notebooks-the-easy-way-python-edition-f831400c1905"
   ]
  },
  {
   "cell_type": "code",
   "execution_count": null,
   "id": "9b6d7e79-8035-4bf0-a9b0-95d6b643e623",
   "metadata": {},
   "outputs": [],
   "source": [
    "# THIS FUNCTION TAKES A CSV FILE FROM A GITHUB URL AND READS IT INTO A PANDAS DATA FRAME\n",
    "import pandas as pd\n",
    "\n",
    "def read_file(url):\n",
    "\n",
    "    \"\"\"\n",
    "    Takes GitHub url as an argument,\n",
    "    pulls CSV file located @ github URL.\n",
    "\n",
    "    \"\"\"\n",
    "\n",
    "    url = url + \"?raw=true\"\n",
    "    df = pd.read_csv(url)\n",
    "    return df\n",
    "\n",
    "\n",
    "# READ FILE FROM GITHUB REPO \n",
    "# CHANGE THE URL TO YOUR DATA LOCATION!\n",
    "#url = \"https://github.com/john-adeojo/deploy_notebook_example/blob/main/kids.csv\"\n",
    "url = \"https://github.com/rmikula-gmu/cs504_test1_medium_tutorial/blob/main/kids.csv\"\n",
    "\n",
    "kids= read_file(url)"
   ]
  },
  {
   "cell_type": "code",
   "execution_count": null,
   "id": "962a7abb-039b-45bf-aa1c-1b26325a2bf1",
   "metadata": {},
   "outputs": [],
   "source": [
    "# THIS FUNCTION PLOTS A BAR CHART\n",
    "\n",
    "\n",
    "import matplotlib\n",
    "import matplotlib.pyplot as plt\n",
    "import seaborn as sns\n",
    "\n",
    "\n",
    "def bar(data, name):\n",
    "    \"\"\"\n",
    "    plots bar chart\n",
    "    name: titl of plot, as str\n",
    "    data: pandas dataframe with 1 categorical column and 1 numeric column\n",
    "    \"\"\"\n",
    "\n",
    "    x_ = str(data.columns[1])\n",
    "    y_ = str(data.columns[0])\n",
    "    x_col = data[x_]\n",
    "    y_col = data[y_]\n",
    "\n",
    "    sns.set_style(style=\"darkgrid\")\n",
    "    sns.color_palette(\"pastel\")\n",
    "    sns.set_context(\"paper\", font_scale=1.5)\n",
    "    plt.figure(figsize=(15, 8))\n",
    "    ax = sns.barplot(x=x_col, y=y_col, data=data)\n",
    "    ax.set_xlabel(\"\")\n",
    "    ax.set_title(name)\n",
    "    plt.show()\n",
    "    \n",
    "    \n",
    "# PLOT THE BAR CHART ON THE KIDS DATA \n",
    "\n",
    "bar(kids, \"kids\")"
   ]
  }
 ],
 "metadata": {
  "kernelspec": {
   "display_name": "Python 3 (ipykernel)",
   "language": "python",
   "name": "python3"
  },
  "language_info": {
   "codemirror_mode": {
    "name": "ipython",
    "version": 3
   },
   "file_extension": ".py",
   "mimetype": "text/x-python",
   "name": "python",
   "nbconvert_exporter": "python",
   "pygments_lexer": "ipython3",
   "version": "3.8.12"
  }
 },
 "nbformat": 4,
 "nbformat_minor": 5
}
